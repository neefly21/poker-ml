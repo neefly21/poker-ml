{
 "cells": [
  {
   "cell_type": "code",
   "execution_count": 54,
   "metadata": {},
   "outputs": [
    {
     "name": "stdout",
     "output_type": "stream",
     "text": [
      "       Hand #  Marked      Site                 Date             Stake  \\\n",
      "0  4539209206     NaN  Ignition  2023/10/10 10:19 pm  $0.05 NL (6 max)   \n",
      "1  4539209201     NaN  Ignition  2023/10/10 10:19 pm  $0.05 NL (6 max)   \n",
      "2  4539209019     NaN  Ignition  2023/10/10 10:19 pm  $0.05 NL (6 max)   \n",
      "3  4539208875     NaN  Ignition  2023/10/10 10:18 pm  $0.05 NL (6 max)   \n",
      "4  4539208664     NaN  Ignition  2023/10/10 10:18 pm  $0.05 NL (6 max)   \n",
      "\n",
      "  My C Won        Final Hand  Hole Cards PF Act    Flop  ... Turn  T Act  \\\n",
      "0   -$0.05  (folded preflop)    12020000      F   60503  ...    4    NaN   \n",
      "1    $0.00  (folded preflop)     2020000      F   80506  ...    4    NaN   \n",
      "2    $0.00  (folded preflop)     5030000      F   71405  ...    2    NaN   \n",
      "3    $0.00  (folded preflop)    11030000      F       0  ...    0    NaN   \n",
      "4    $0.00  (folded preflop)    10070000      F  120909  ...    9    NaN   \n",
      "\n",
      "  River  R Act                               Winner           Winning Hand  \\\n",
      "0    11    NaN  P2-fc2a4a5db4c63a81ae7474586b51be62         High Card, Ace   \n",
      "1    14    NaN  P5-50685b04adaa65bb4e02832981713a35        One Pair, Fours   \n",
      "2    11    NaN  P6-14143634061cf647b6c3139a23ae96d8       One Pair, Eights   \n",
      "3     0    NaN  P1-d84913783ee242a75f536d4ce323840e    (did not show hand)   \n",
      "4     5    NaN  P2-be4517ce95262e0c84e41e7368ec482e  Four of a Kind, Nines   \n",
      "\n",
      "     Pot   Rake Position Hand  \n",
      "0  $0.87  $0.04       BB  Q2s  \n",
      "1  $1.32  $0.06       CO   22  \n",
      "2  $0.29  $0.01       CO  53o  \n",
      "3  $0.04  $0.00      BTN  J3s  \n",
      "4  $2.05  $0.10      BTN  T7s  \n",
      "\n",
      "[5 rows x 21 columns]\n"
     ]
    }
   ],
   "source": [
    "import pandas as pd\n",
    "import numpy as np\n",
    "import matplotlib.pyplot as plt\n",
    "import tkinter\n",
    "from PIL import Image, ImageTk\n",
    "from tkinter import *\n",
    "from matplotlib.colors import ListedColormap\n",
    "\n",
    "raw_dataset = pd.read_csv('./OpeningHandsByPosition.csv')\n",
    "print(raw_dataset.head())"
   ]
  },
  {
   "cell_type": "code",
   "execution_count": 2,
   "metadata": {},
   "outputs": [
    {
     "name": "stdout",
     "output_type": "stream",
     "text": [
      "EP: 832\n",
      "MP: 1308\n",
      "CO: 1557\n",
      "BTN: 1690\n",
      "SB: 1677\n",
      "BB: 1710\n"
     ]
    }
   ],
   "source": [
    "hole_cards = raw_dataset['Hand']\n",
    "hand_position = raw_dataset['Position']\n",
    "\n",
    "lup = []\n",
    "unique_pos = set(hand_position)\n",
    "\n",
    "positions = ['EP', 'MP', 'CO', 'BTN', 'SB', 'BB']\n",
    "\n",
    "position_ranges = {\n",
    "    'EP': [],\n",
    "    'MP': [],\n",
    "    'CO': [],\n",
    "    'BTN': [],\n",
    "    'SB': [],\n",
    "    'BB': []\n",
    "}\n",
    "\n",
    "for i in range(len(hand_position)):\n",
    "    curr_hand_pos = hand_position[i]\n",
    "    curr_hand = hole_cards[i]\n",
    "    lup.append(i)\n",
    "    position_ranges[curr_hand_pos].append(curr_hand)\n",
    "\n",
    "# position_ranges['UTG'][0]\n",
    "for pos in positions:\n",
    "    print(\"{}: {}\".format(pos, len(position_ranges[pos])))"
   ]
  },
  {
   "cell_type": "code",
   "execution_count": 3,
   "metadata": {},
   "outputs": [
    {
     "name": "stdout",
     "output_type": "stream",
     "text": [
      "['JTs', 'Q3o', '82o', 'Q5s', '95o', 'A4s', 'K3s', 'A9o', 'Q8s', 'J7s', '43s', 'QJo', 'K2o', '97s', '95s', 'A4o', 'ATs', '75o', '62s', 'A7o', 'T9s', 'A2o', 'K5o', '74o', '62o', '98s', '44', 'J7o', '73o', 'T2o', 'K9o', '83s', '53o', 'K6s', 'K4o', 'QTo', 'KJs', 'A3s', '94o', 'A6s', '93s', 'J5s', 'Q7s', '97o', 'J6s', 'KQs', '66', 'K4s', '22', '85o', 'KK', '54s', 'J5o', 'K7o', '55', 'J8s', '52o', 'J9s', '99', 'A5o', 'A3o', '92o', '98o', 'Q3s', '96o', '33', 'T7o', '76s', '84o', 'QTs', 'AA', 'J4s', 'T9o', 'T3o', 'T6s', 'A8o', '63o', 'AJo', 'Q9s', 'Q6o', 'J3o', 'JJ', '43o', 'K3o', '42s', 'AKo', 'T5o', '52s', 'QJs', 'KTo', '72o', 'A2s', 'Q4o', '73s', '96s', '76o', 'AKs', '74s', 'JTo', '83o', '42o', 'J9o', 'T4o', 'TT', 'ATo', 'K8o', 'J2s', 'A8s', 'QQ', 'J4o', 'J3s', 'Q8o', 'KTs', 'AQo', '88', 'T8o', '64s', '32o', 'T6o', '32s', 'Q7o', 'Q4s', '87s', '94s', 'A7s', '54o', '75s', 'A6o', '65s', '87o', 'T8s', 'T2s', 'KJo', '72s', '64o', 'AJs', 'Q5o', '86s', '65o', 'J6o', '86o', 'T7s', 'Q9o', '85s', '84s', 'T5s', 'J2o', 'T3s', 'K2s', '53s', 'K6o', 'T4s', '82s', 'K5s', 'AQs', 'K7s', '93o', 'A9s', 'J8o', 'Q2o', 'KQo', 'K8s'] 162\n"
     ]
    }
   ],
   "source": [
    "# Turn all hands played by position into unique range\n",
    "unique_hands_list = []\n",
    "ep_unique_hands = set(position_ranges['EP'])\n",
    "\n",
    "for hand in ep_unique_hands:\n",
    "    unique_hands_list.append(hand)\n",
    "\n",
    "print(unique_hands_list, len(unique_hands_list))"
   ]
  },
  {
   "cell_type": "code",
   "execution_count": 4,
   "metadata": {},
   "outputs": [
    {
     "name": "stdout",
     "output_type": "stream",
     "text": [
      "{'22': 6, '32o': 5, '32s': 1, '33': 3, '42o': 7, '42s': 5, '43o': 5, '43s': 2, '44': 4, '52o': 7, '52s': 4, '53o': 7, '53s': 3, '54o': 17, '54s': 2, '55': 4, '62o': 12, '62s': 2, '63o': 4, '64o': 6, '64s': 2, '65o': 8, '65s': 2, '66': 3, '72o': 2, '72s': 3, '73o': 9, '73s': 3, '74o': 5, '74s': 3, '75o': 9, '75s': 3, '76o': 4, '76s': 3, '82o': 9, '82s': 1, '83o': 11, '83s': 4, '84o': 7, '84s': 2, '85o': 11, '85s': 3, '86o': 5, '86s': 1, '87o': 7, '87s': 2, '88': 5, '92o': 9, '93o': 9, '93s': 1, '94o': 6, '94s': 2, '95o': 7, '95s': 1, '96o': 10, '96s': 3, '97o': 7, '97s': 2, '98o': 12, '98s': 2, '99': 2, 'A2o': 8, 'A2s': 2, 'A3o': 1, 'A3s': 3, 'A4o': 8, 'A4s': 4, 'A5o': 5, 'A6o': 9, 'A6s': 3, 'A7o': 8, 'A7s': 3, 'A8o': 8, 'A8s': 1, 'A9o': 7, 'A9s': 2, 'AA': 4, 'AJo': 12, 'AJs': 3, 'AKo': 7, 'AKs': 5, 'AQo': 9, 'AQs': 3, 'ATo': 13, 'ATs': 3, 'J2o': 4, 'J2s': 6, 'J3o': 10, 'J3s': 7, 'J4o': 4, 'J4s': 4, 'J5o': 13, 'J5s': 4, 'J6o': 4, 'J6s': 1, 'J7o': 8, 'J7s': 2, 'J8o': 7, 'J8s': 8, 'J9o': 3, 'J9s': 1, 'JJ': 5, 'JTo': 10, 'JTs': 1, 'K2o': 5, 'K2s': 4, 'K3o': 5, 'K3s': 2, 'K4o': 8, 'K4s': 2, 'K5o': 5, 'K5s': 4, 'K6o': 3, 'K6s': 4, 'K7o': 4, 'K7s': 3, 'K8o': 10, 'K8s': 1, 'K9o': 5, 'KJo': 8, 'KJs': 2, 'KK': 3, 'KQo': 12, 'KQs': 2, 'KTo': 4, 'KTs': 1, 'Q2o': 4, 'Q3o': 6, 'Q3s': 3, 'Q4o': 7, 'Q4s': 5, 'Q5o': 8, 'Q5s': 4, 'Q6o': 3, 'Q7o': 5, 'Q7s': 4, 'Q8o': 15, 'Q8s': 4, 'Q9o': 7, 'Q9s': 6, 'QJo': 11, 'QJs': 1, 'QQ': 3, 'QTo': 10, 'QTs': 4, 'T2o': 10, 'T2s': 4, 'T3o': 7, 'T3s': 3, 'T4o': 5, 'T4s': 5, 'T5o': 8, 'T5s': 1, 'T6o': 8, 'T6s': 1, 'T7o': 7, 'T7s': 1, 'T8o': 5, 'T8s': 2, 'T9o': 5, 'T9s': 9, 'TT': 5}\n"
     ]
    }
   ],
   "source": [
    "hand_freq = {}\n",
    "\n",
    "for hand in position_ranges['EP']:\n",
    "    if(hand in hand_freq):\n",
    "        hand_freq[hand] += 1\n",
    "    else:\n",
    "        hand_freq[hand] = 1\n",
    "\n",
    "hand_freq_keys = list(hand_freq.keys())\n",
    "hand_freq_keys.sort()\n",
    "sorted_dict = {i: hand_freq[i] for i in hand_freq_keys}\n",
    "print(sorted_dict)"
   ]
  },
  {
   "cell_type": "code",
   "execution_count": 5,
   "metadata": {},
   "outputs": [],
   "source": [
    "card_val = ['A','K','Q','J','T', 9, 8, 7, 6, 5, 4, 3, 2]\n",
    "face_to_val = {\n",
    "    'A': 14,\n",
    "    'K': 13,\n",
    "    'Q': 12,\n",
    "    'J': 11,\n",
    "    'T': 10\n",
    "}"
   ]
  },
  {
   "cell_type": "code",
   "execution_count": 6,
   "metadata": {},
   "outputs": [],
   "source": [
    "def order_cards(cv0, cv1):\n",
    "    cv0_fv = face_to_val[cv0] if cv0 in face_to_val else cv0\n",
    "    cv1_fv = face_to_val[cv1] if cv1 in face_to_val else cv1\n",
    "    \n",
    "    if cv0_fv > cv1_fv:\n",
    "        return cv0, cv1\n",
    "    else:\n",
    "        return cv1, cv0"
   ]
  },
  {
   "cell_type": "code",
   "execution_count": 7,
   "metadata": {},
   "outputs": [],
   "source": [
    "\n",
    "preflop_range = {}\n",
    "preflop_hand_range = np.zeros((13, 13), dtype=str)\n",
    "pfhr = []\n",
    "for i in range(len(card_val)):\n",
    "    for j in range(len(card_val)):\n",
    "        l_c, r_c = order_cards(card_val[i], card_val[j])\n",
    "        suit = 's' if j > i else 'o'\n",
    "        if i == j:\n",
    "            suit = \"\"\n",
    "        hand = \"{}{}{}\".format(l_c,r_c,suit)\n",
    "        preflop_hand_range[i][j] = hand\n",
    "        pfhr.append(hand)\n"
   ]
  },
  {
   "cell_type": "code",
   "execution_count": 8,
   "metadata": {},
   "outputs": [
    {
     "name": "stdout",
     "output_type": "stream",
     "text": [
      "[['AA' 'AKs' 'AQs' 'AJs' 'ATs' 'A9s' 'A8s' 'A7s' 'A6s' 'A5s' 'A4s' 'A3s'\n",
      "  'A2s']\n",
      " ['AKo' 'KK' 'KQs' 'KJs' 'KTs' 'K9s' 'K8s' 'K7s' 'K6s' 'K5s' 'K4s' 'K3s'\n",
      "  'K2s']\n",
      " ['AQo' 'KQo' 'QQ' 'QJs' 'QTs' 'Q9s' 'Q8s' 'Q7s' 'Q6s' 'Q5s' 'Q4s' 'Q3s'\n",
      "  'Q2s']\n",
      " ['AJo' 'KJo' 'QJo' 'JJ' 'JTs' 'J9s' 'J8s' 'J7s' 'J6s' 'J5s' 'J4s' 'J3s'\n",
      "  'J2s']\n",
      " ['ATo' 'KTo' 'QTo' 'JTo' 'TT' 'T9s' 'T8s' 'T7s' 'T6s' 'T5s' 'T4s' 'T3s'\n",
      "  'T2s']\n",
      " ['A9o' 'K9o' 'Q9o' 'J9o' 'T9o' '99' '98s' '97s' '96s' '95s' '94s' '93s'\n",
      "  '92s']\n",
      " ['A8o' 'K8o' 'Q8o' 'J8o' 'T8o' '98o' '88' '87s' '86s' '85s' '84s' '83s'\n",
      "  '82s']\n",
      " ['A7o' 'K7o' 'Q7o' 'J7o' 'T7o' '97o' '87o' '77' '76s' '75s' '74s' '73s'\n",
      "  '72s']\n",
      " ['A6o' 'K6o' 'Q6o' 'J6o' 'T6o' '96o' '86o' '76o' '66' '65s' '64s' '63s'\n",
      "  '62s']\n",
      " ['A5o' 'K5o' 'Q5o' 'J5o' 'T5o' '95o' '85o' '75o' '65o' '55' '54s' '53s'\n",
      "  '52s']\n",
      " ['A4o' 'K4o' 'Q4o' 'J4o' 'T4o' '94o' '84o' '74o' '64o' '54o' '44' '43s'\n",
      "  '42s']\n",
      " ['A3o' 'K3o' 'Q3o' 'J3o' 'T3o' '93o' '83o' '73o' '63o' '53o' '43o' '33'\n",
      "  '32s']\n",
      " ['A2o' 'K2o' 'Q2o' 'J2o' 'T2o' '92o' '82o' '72o' '62o' '52o' '42o' '32o'\n",
      "  '22']]\n"
     ]
    }
   ],
   "source": [
    "preflop_hand_range = np.zeros((13, 13), dtype=(str,str))\n",
    "preflop_bleh = [\"\" for i in range(13)]\n",
    "\n",
    "# preflop_hand_range[12][12] = \"x\"\n",
    "\n",
    "# for i in range(len(pfhr)):\n",
    "#     if i % 13 == 0:\n",
    "#         print(\"\\n\")\n",
    "#     print(pfhr[i], end=\" \")\n",
    "\n",
    "# print(len(pfhr))\n",
    "\n",
    "np_pfhr = np.array(pfhr)\n",
    "\n",
    "formatted_pfhr = np.reshape(np_pfhr, (13,13))\n",
    "print(formatted_pfhr)"
   ]
  },
  {
   "cell_type": "code",
   "execution_count": 9,
   "metadata": {},
   "outputs": [],
   "source": [
    "tkinter._test()"
   ]
  },
  {
   "cell_type": "code",
   "execution_count": 56,
   "metadata": {},
   "outputs": [
    {
     "name": "stdout",
     "output_type": "stream",
     "text": [
      "[(45, 45), (45, 85), (45, 125), (45, 165), (45, 205), (45, 245), (45, 285), (45, 325), (45, 365), (45, 405), (45, 445), (45, 485), (45, 525), (85, 45), (85, 85), (85, 125), (85, 165), (85, 205), (85, 245), (85, 285), (85, 325), (85, 365), (85, 405), (85, 445), (85, 485), (85, 525), (125, 45), (125, 85), (125, 125), (125, 165), (125, 205), (125, 245), (125, 285), (125, 325), (125, 365), (125, 405), (125, 445), (125, 485), (125, 525), (165, 45), (165, 85), (165, 125), (165, 165), (165, 205), (165, 245), (165, 285), (165, 325), (165, 365), (165, 405), (165, 445), (165, 485), (165, 525), (205, 45), (205, 85), (205, 125), (205, 165), (205, 205), (205, 245), (205, 285), (205, 325), (205, 365), (205, 405), (205, 445), (205, 485), (205, 525), (245, 45), (245, 85), (245, 125), (245, 165), (245, 205), (245, 245), (245, 285), (245, 325), (245, 365), (245, 405), (245, 445), (245, 485), (245, 525), (285, 45), (285, 85), (285, 125), (285, 165), (285, 205), (285, 245), (285, 285), (285, 325), (285, 365), (285, 405), (285, 445), (285, 485), (285, 525), (325, 45), (325, 85), (325, 125), (325, 165), (325, 205), (325, 245), (325, 285), (325, 325), (325, 365), (325, 405), (325, 445), (325, 485), (325, 525), (365, 45), (365, 85), (365, 125), (365, 165), (365, 205), (365, 245), (365, 285), (365, 325), (365, 365), (365, 405), (365, 445), (365, 485), (365, 525), (405, 45), (405, 85), (405, 125), (405, 165), (405, 205), (405, 245), (405, 285), (405, 325), (405, 365), (405, 405), (405, 445), (405, 485), (405, 525), (445, 45), (445, 85), (445, 125), (445, 165), (445, 205), (445, 245), (445, 285), (445, 325), (445, 365), (445, 405), (445, 445), (445, 485), (445, 525), (485, 45), (485, 85), (485, 125), (485, 165), (485, 205), (485, 245), (485, 285), (485, 325), (485, 365), (485, 405), (485, 445), (485, 485), (485, 525), (525, 45), (525, 85), (525, 125), (525, 165), (525, 205), (525, 245), (525, 285), (525, 325), (525, 365), (525, 405), (525, 445), (525, 485), (525, 525)]\n"
     ]
    }
   ],
   "source": [
    "root = Tk()\n",
    "w = Canvas(root, width=640, height=640)\n",
    "w.pack()\n",
    "c_height=640\n",
    "c_width=640\n",
    "\n",
    "hand_color_loc = []\n",
    "\n",
    "for i in range(13):\n",
    "    tx = (i*40)+25\n",
    "    w.create_line(25,tx,550,tx)\n",
    "\n",
    "    ty = (i*40)+25\n",
    "    w.create_line(ty,25,ty,550)\n",
    "\n",
    "    wtx = (i*40)+45\n",
    "    for j in range(13):\n",
    "        wty = (j*40)+45\n",
    "        w.create_rectangle(wtx-20, wty-20, (wtx-20)+45, (wty-20)+45, fill=\"green\")\n",
    "        w.create_text(wtx, wty, fill=\"black\", font=\"Times 14 bold\", text=formatted_pfhr[j][i])\n",
    "        hand_color_loc.append((wtx,wty))\n",
    "\n",
    "print(hand_color_loc)\n",
    "hcc = hand_color_loc[0]\n",
    "\n",
    "w.create_line(550, 25, 550, 550)\n",
    "w.create_line(25, 550, 550, 550)\n",
    "\n",
    "mainloop()"
   ]
  },
  {
   "cell_type": "code",
   "execution_count": null,
   "metadata": {},
   "outputs": [],
   "source": []
  }
 ],
 "metadata": {
  "kernelspec": {
   "display_name": "Python 3",
   "language": "python",
   "name": "python3"
  },
  "language_info": {
   "codemirror_mode": {
    "name": "ipython",
    "version": 3
   },
   "file_extension": ".py",
   "mimetype": "text/x-python",
   "name": "python",
   "nbconvert_exporter": "python",
   "pygments_lexer": "ipython3",
   "version": "3.10.9"
  }
 },
 "nbformat": 4,
 "nbformat_minor": 2
}
